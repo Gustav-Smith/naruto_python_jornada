{
 "cells": [
  {
   "cell_type": "markdown",
   "id": "ae6beff5",
   "metadata": {},
   "source": [
    "# 🥷 Missão 4 — Sharingan Lógico\n",
    "**Jutsus Aprendidos:** Condicionais (`if`, `elif`, `else`)  \n",
    "**Tema Naruto:** Despertar do Sharingan  \n",
    "**Objetivo:** Aprender a tomar decisões com base em condições, como um ninja que analisa o inimigo antes de agir."
   ]
  },
  {
   "cell_type": "markdown",
   "id": "b153395c",
   "metadata": {},
   "source": [
    "## 🔍 Condicionais em Python\n",
    "\n",
    "Condicionais permitem que o código escolha caminhos diferentes dependendo da situação.  \n",
    "É como o Sharingan analisando o comportamento do oponente.\n",
    "\n",
    "### Sintaxe:\n",
    "```python\n",
    "if condição:\n",
    "    ação\n",
    "elif outra_condição:\n",
    "    outra_ação\n",
    "else:\n",
    "    ação_final"
   ]
  },
  {
   "cell_type": "markdown",
   "id": "8b70c7f4",
   "metadata": {},
   "source": [
    "\n",
    "---\n",
    "\n",
    "### 🧠 Célula 3 — Exemplo de Código\n",
    "```python\n",
    "# Naruto decide se ativa o modo sábio\n",
    "chakra = 85\n",
    "\n",
    "if chakra >= 90:\n",
    "    print(\"Modo Sábio ativado!\")\n",
    "elif chakra >= 70:\n",
    "    print(\"Naruto está concentrando chakra...\")\n",
    "else:\n",
    "    print(\"Naruto precisa descansar.\")"
   ]
  },
  {
   "cell_type": "markdown",
   "id": "cfa06ae2",
   "metadata": {},
   "source": [
    "## 🧪 Desafio\n",
    "\n",
    "Crie um sistema de decisão para Sasuke:\n",
    "- Se o chakra for maior que 80 → \"Sasuke ativa o Sharingan!\"\n",
    "- Se estiver entre 50 e 80 → \"Sasuke observa o inimigo com cautela.\"\n",
    "- Se for menor que 50 → \"Sasuke recua para recuperar energia.\"\n",
    "\n",
    "Use uma variável `chakra_sasuke` e imprima a ação correspondente."
   ]
  },
  {
   "cell_type": "code",
   "execution_count": 9,
   "id": "8fd0bfba",
   "metadata": {},
   "outputs": [
    {
     "name": "stdout",
     "output_type": "stream",
     "text": [
      "Sasuke recua para recuperar energia.\n"
     ]
    }
   ],
   "source": [
    "chakra_sasuke = 49  # Você pode mudar esse valor para testar\n",
    "\n",
    "if chakra_sasuke >= 80:\n",
    "    print(\"Sasuke ativa o Sharingan!\")\n",
    "elif chakra_sasuke >= 50:\n",
    "    print(\"Sasuke observa o inimigo com cautela.\")\n",
    "else:\n",
    "    print(\"Sasuke recua para recuperar energia.\")"
   ]
  },
  {
   "cell_type": "markdown",
   "id": "333d1697",
   "metadata": {},
   "source": [
    "## ✅ Missão Concluída!\n",
    "**XP Ganhado:** 80  \n",
    "**Total Atual:** 260 XP  \n",
    "**Título Ninja:** Genin  \n",
    "**Próxima Missão:** Dia 05 — Equipe 7 (Funções)\n",
    "\n",
    "Você agora domina decisões com código. O Sharingan está afiado!"
   ]
  }
 ],
 "metadata": {
  "kernelspec": {
   "display_name": "Python 3",
   "language": "python",
   "name": "python3"
  },
  "language_info": {
   "codemirror_mode": {
    "name": "ipython",
    "version": 3
   },
   "file_extension": ".py",
   "mimetype": "text/x-python",
   "name": "python",
   "nbconvert_exporter": "python",
   "pygments_lexer": "ipython3",
   "version": "3.13.3"
  }
 },
 "nbformat": 4,
 "nbformat_minor": 5
}
