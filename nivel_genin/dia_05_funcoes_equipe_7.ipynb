{
 "cells": [
  {
   "cell_type": "markdown",
   "id": "a3ffbedc",
   "metadata": {},
   "source": [
    "# 🥷 Missão 5 — Equipe 7\n",
    "**Jutsus Aprendidos:** Funções (`def`)  \n",
    "**Tema Naruto:** Formação da Equipe 7  \n",
    "**Objetivo:** Aprender a criar funções para organizar e reutilizar código, como se fossem jutsus personalizados."
   ]
  },
  {
   "cell_type": "markdown",
   "id": "17d41a2e",
   "metadata": {},
   "source": [
    "## 🔍 O que são funções?\n",
    "\n",
    "Funções são como jutsus: você define uma técnica e pode usá-la sempre que quiser.\n",
    "\n",
    "### Sintaxe:\n",
    "```python\n",
    "def nome_da_funcao():\n",
    "    # ações"
   ]
  },
  {
   "cell_type": "code",
   "execution_count": 3,
   "id": "f9fa1993",
   "metadata": {},
   "outputs": [
    {
     "name": "stdout",
     "output_type": "stream",
     "text": [
      "Naruto, prepare-se para a missão!\n"
     ]
    }
   ],
   "source": [
    "def saudar_ninja(nome):\n",
    "    print(f\"{nome}, prepare-se para a missão!\")\n",
    "\n",
    "# Exemplo de chamada\n",
    "saudar_ninja(\"Naruto\")"
   ]
  },
  {
   "cell_type": "markdown",
   "id": "f46e2330",
   "metadata": {},
   "source": [
    "\n",
    "---\n",
    "\n",
    "### 🧠 Célula 3 — Exemplo de Código\n",
    "```python\n",
    "# Função simples\n",
    "def ativar_modo_sabio():\n",
    "    print(\"Naruto ativou o Modo Sábio!\")\n",
    "\n",
    "# Chamando a função\n",
    "ativar_modo_sabio()\n",
    "\n",
    "# Função com parâmetro\n",
    "def saudar_ninja(nome):\n",
    "    print(f\"{nome}, prepare-se para a missão!\")\n",
    "\n",
    "saudar_ninja(\"Sakura\")\n",
    "saudar_ninja(\"Sasuke\")"
   ]
  },
  {
   "cell_type": "markdown",
   "id": "d4ca2cf9",
   "metadata": {},
   "source": [
    "## 🧪 Desafio\n",
    "\n",
    "Crie uma função chamada `status_ninja` que receba 3 parâmetros:\n",
    "- `nome`\n",
    "- `chakra`\n",
    "- `modo_especial` (booleano)\n",
    "\n",
    "Ela deve imprimir uma frase como:\n",
    "\"Naruto | Chakra: 85.5 | Modo Especial: True\"\n",
    "\n",
    "Depois, chame essa função para Naruto, Sakura e Sasuke."
   ]
  },
  {
   "cell_type": "code",
   "execution_count": 4,
   "id": "bf0902cd",
   "metadata": {},
   "outputs": [
    {
     "name": "stdout",
     "output_type": "stream",
     "text": [
      "Naruto | Chakra: 85.5 | Modo Especial: True\n",
      "Sakura | Chakra: 70.0 | Modo Especial: True\n",
      "Sasuke | Chakra: 90.0 | Modo Especial: True\n"
     ]
    }
   ],
   "source": [
    "def status_ninja(nome, chakra, modo_especial):\n",
    "    print(f\"{nome} | Chakra: {chakra} | Modo Especial: {modo_especial}\")\n",
    "\n",
    "status_ninja(\"Naruto\", 85.5, True)\n",
    "status_ninja(\"Sakura\", 70.0, True)\n",
    "status_ninja(\"Sasuke\", 90.0, True)"
   ]
  },
  {
   "cell_type": "markdown",
   "id": "d15b882d",
   "metadata": {},
   "source": [
    "## ✅ Missão Concluída!\n",
    "**XP Ganhado:** 90  \n",
    "**Total Atual:** 350 XP  \n",
    "**Título Ninja:** Genin  \n",
    "**Próxima Missão:** Dia 06 — Invocação de Dados (Dicionários)\n",
    "\n",
    "Você agora domina jutsus personalizados com funções. A Equipe 7 está pronta!"
   ]
  }
 ],
 "metadata": {
  "kernelspec": {
   "display_name": ".venv (3.13.7)",
   "language": "python",
   "name": "python3"
  },
  "language_info": {
   "codemirror_mode": {
    "name": "ipython",
    "version": 3
   },
   "file_extension": ".py",
   "mimetype": "text/x-python",
   "name": "python",
   "nbconvert_exporter": "python",
   "pygments_lexer": "ipython3",
   "version": "3.13.7"
  }
 },
 "nbformat": 4,
 "nbformat_minor": 5
}
