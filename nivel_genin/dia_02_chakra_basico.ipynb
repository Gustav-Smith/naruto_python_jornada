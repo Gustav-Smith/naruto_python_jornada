{
 "cells": [
  {
   "cell_type": "markdown",
   "id": "0bc48566",
   "metadata": {},
   "source": [
    "# 🥷 Missão 2 — Chakra Básico\n",
    "**Jutsus Aprendidos:** Variáveis e tipos de dados  \n",
    "**Tema Naruto:** Controle de chakra  \n",
    "**Objetivo:** Aprender a armazenar e manipular informações com variáveis, como se fossem recipientes de chakra."
   ]
  },
  {
   "cell_type": "markdown",
   "id": "f117398c",
   "metadata": {},
   "source": [
    "## 🔍 O que são variáveis?\n",
    "Variáveis são como frascos de chakra: você guarda informações neles para usar depois.\n",
    "\n",
    "### Tipos de dados:\n",
    "- `str` → texto (ex: \"Naruto\")\n",
    "- `int` → número inteiro (ex: 17)\n",
    "- `float` → número decimal (ex: 85.5)\n",
    "- `bool` → verdadeiro ou falso (ex: True)\n",
    "\n",
    "### Exemplo:\n",
    "```python\n",
    "nome = \"Naruto\"\n",
    "idade = 17\n",
    "chakra = 85.5\n",
    "modo_sabio = True"
   ]
  },
  {
   "cell_type": "code",
   "execution_count": 1,
   "id": "fb420748",
   "metadata": {},
   "outputs": [
    {
     "name": "stdout",
     "output_type": "stream",
     "text": [
      "Nome: Naruto Uzumaki\n",
      "Idade: 17\n",
      "Chakra: 85.5\n",
      "Modo Sábio ativado? True\n"
     ]
    }
   ],
   "source": [
    "# Status do Naruto\n",
    "nome = \"Naruto Uzumaki\"        # tipo str\n",
    "idade = 17                     # tipo int\n",
    "chakra = 85.5                  # tipo float\n",
    "modo_sabio = True              # tipo bool\n",
    "\n",
    "# Exibindo os dados\n",
    "print(\"Nome:\", nome)\n",
    "print(\"Idade:\", idade)\n",
    "print(\"Chakra:\", chakra)\n",
    "print(\"Modo Sábio ativado?\", modo_sabio)"
   ]
  },
  {
   "cell_type": "markdown",
   "id": "632cda35",
   "metadata": {},
   "source": [
    "## 🧪 Desafio\n",
    "Crie variáveis para Sakura e Sasuke com:\n",
    "- Nome\n",
    "- Idade\n",
    "- Nível de chakra\n",
    "- Um booleano indicando se estão em modo especial (Força da Tsunade ou Sharingan)\n",
    "\n",
    "Depois, use `print()` para exibir o status de cada um."
   ]
  },
  {
   "cell_type": "code",
   "execution_count": 3,
   "id": "f689f03e",
   "metadata": {},
   "outputs": [
    {
     "name": "stdout",
     "output_type": "stream",
     "text": [
      "nome: Sasuke Uchiha, idade: 17, chakra: 90.0, modo_sharingan: True\n",
      "nome: Sakura Haruno, idade: 16, chakra: 75.0, modo_tsunade: True\n"
     ]
    }
   ],
   "source": [
    "nome = \"Sasuke Uchiha\"\n",
    "idade = 17\n",
    "chakra = 90.0\n",
    "modo_sharingan = True\n",
    "\n",
    "nome2 = \"Sakura Haruno\"\n",
    "idade2 = 16\n",
    "chakra2 = 75.0\n",
    "modo_tsunade = True\n",
    "\n",
    "print(f\"nome: {nome}, idade: {idade}, chakra: {chakra}, modo_sharingan: {modo_sharingan}\")\n",
    "print(f\"nome: {nome2}, idade: {idade2}, chakra: {chakra2}, modo_tsunade: {modo_tsunade}\")"
   ]
  },
  {
   "cell_type": "markdown",
   "id": "18b9f914",
   "metadata": {},
   "source": [
    "## ✅ Missão Concluída!\n",
    "**XP Ganhado:** 60  \n",
    "**Total Atual:** 110 XP  \n",
    "**Título Ninja:** Genin  \n",
    "**Próxima Missão:** Dia 03 — Clones das Sombras (Listas e Loops)\n",
    "\n",
    "Você agora domina o controle de chakra com variáveis. Está pronto para invocar clones!"
   ]
  }
 ],
 "metadata": {
  "kernelspec": {
   "display_name": "Python 3",
   "language": "python",
   "name": "python3"
  },
  "language_info": {
   "codemirror_mode": {
    "name": "ipython",
    "version": 3
   },
   "file_extension": ".py",
   "mimetype": "text/x-python",
   "name": "python",
   "nbconvert_exporter": "python",
   "pygments_lexer": "ipython3",
   "version": "3.13.3"
  }
 },
 "nbformat": 4,
 "nbformat_minor": 5
}
