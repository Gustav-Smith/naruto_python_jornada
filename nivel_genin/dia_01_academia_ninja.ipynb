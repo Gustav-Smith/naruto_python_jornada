{
 "cells": [
  {
   "cell_type": "markdown",
   "id": "3ea62c51",
   "metadata": {},
   "source": [
    "# 🥷 Missão 1 — Genin Iniciado\n",
    "**Jutsus Aprendidos:** `print()` e comentários\n",
    "**Tema Naruto:** Entrada na Academia Ninja\n",
    "**Objetivo:** Aprender a exibir mensagens e documentar o código como um verdadeiro shinobi."
   ]
  },
  {
   "cell_type": "markdown",
   "id": "967a664d",
   "metadata": {},
   "source": [
    "## 🔍 Conceitos Ninja\n",
    "\n",
    "### `print()`\n",
    "Usado para mostrar mensagens na tela. É como gritar um jutsu!\n",
    "\n",
    "### Comentários (`#`)\n",
    "São anotações secretas que o computador ignora. Úteis para lembrar o que cada parte do código faz."
   ]
  },
  {
   "cell_type": "code",
   "execution_count": 1,
   "id": "4b6d23ce",
   "metadata": {},
   "outputs": [
    {
     "name": "stdout",
     "output_type": "stream",
     "text": [
      "Naruto: Eu vou me tornar Hokage!\n",
      "Sakura: Vamos fazer isso direito.\n",
      "Sasuke: Hmpf. Só não atrapalhem.\n"
     ]
    }
   ],
   "source": [
    "# Naruto está animado\n",
    "print(\"Naruto: Eu vou me tornar Hokage!\")\n",
    "\n",
    "# Sakura está focada\n",
    "print(\"Sakura: Vamos fazer isso direito.\")\n",
    "\n",
    "# Sasuke está sério\n",
    "print(\"Sasuke: Hmpf. Só não atrapalhem.\")"
   ]
  },
  {
   "cell_type": "markdown",
   "id": "da468539",
   "metadata": {},
   "source": [
    "## 🧪 Desafio\n",
    "Crie 3 frases usando `print()` com personagens de Naruto se preparando para a primeira missão.\n",
    "Adicione pelo menos 2 comentários explicando o que está acontecendo."
   ]
  },
  {
   "cell_type": "code",
   "execution_count": 2,
   "id": "7206e226",
   "metadata": {},
   "outputs": [
    {
     "name": "stdout",
     "output_type": "stream",
     "text": [
      "Juntos, eles formam a equipe 7!\n",
      "Equipe 7: Vamos proteger a vila a qualquer custo!\n",
      "Fim da cena.\n"
     ]
    }
   ],
   "source": [
    "print(\"Juntos, eles formam a equipe 7!\")\n",
    "print(\"Equipe 7: Vamos proteger a vila a qualquer custo!\")\n",
    "print(\"Fim da cena.\")"
   ]
  },
  {
   "cell_type": "markdown",
   "id": "7c92a5b3",
   "metadata": {},
   "source": [
    "### 🟩 Dia 01 — Genin Iniciado\n",
    "**Jutsus Aprendidos:** `print()` e comentários  \n",
    "**Tema Naruto:** Entrada na Academia Ninja  \n",
    "**Arquivo:** `dia_01_academia_ninja.ipynb`  \n",
    "**XP Ganhado:** 50 XP"
   ]
  }
 ],
 "metadata": {
  "kernelspec": {
   "display_name": ".venv (3.13.7)",
   "language": "python",
   "name": "python3"
  },
  "language_info": {
   "codemirror_mode": {
    "name": "ipython",
    "version": 3
   },
   "file_extension": ".py",
   "mimetype": "text/x-python",
   "name": "python",
   "nbconvert_exporter": "python",
   "pygments_lexer": "ipython3",
   "version": "3.13.7"
  }
 },
 "nbformat": 4,
 "nbformat_minor": 5
}
