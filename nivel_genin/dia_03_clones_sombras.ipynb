{
 "cells": [
  {
   "cell_type": "markdown",
   "id": "744248d8",
   "metadata": {},
   "source": [
    "# 🥷 Missão 3 — Clones das Sombras\n",
    "**Jutsus Aprendidos:** Listas e loops (`for`)  \n",
    "**Tema Naruto:** Técnica dos clones das sombras  \n",
    "**Objetivo:** Aprender a armazenar vários dados em uma lista e repetir ações com um loop, como invocar e comandar clones ninja."
   ]
  },
  {
   "cell_type": "markdown",
   "id": "44fb7a33",
   "metadata": {},
   "source": [
    "## 🔍 Conceitos Ninja\n",
    "\n",
    "### Listas\n",
    "São como invocar vários clones de uma vez. Você guarda vários valores em uma única variável.\n",
    "\n",
    "```python\n",
    "equipe_7 = [\"Naruto\", \"Sakura\", \"Sasuke\"]"
   ]
  },
  {
   "cell_type": "code",
   "execution_count": 3,
   "id": "15627966",
   "metadata": {},
   "outputs": [
    {
     "name": "stdout",
     "output_type": "stream",
     "text": [
      "Naruto está pronto para a missão!\n",
      "Sakura está pronto para a missão!\n",
      "Sasuke está pronto para a missão!\n"
     ]
    }
   ],
   "source": [
    "equipe_7 = [\"Naruto\", \"Sakura\", \"Sasuke\"]\n",
    "\n",
    "for ninja in equipe_7:\n",
    "    print(f\"{ninja} está pronto para a missão!\")"
   ]
  },
  {
   "cell_type": "markdown",
   "id": "5f9a71c3",
   "metadata": {},
   "source": [
    "\n",
    "---\n",
    "\n",
    "### 🧠 Célula 3 — Exemplo de Código\n",
    "```python\n",
    "# Invocando a Equipe 7\n",
    "equipe_7 = [\"Naruto\", \"Sakura\", \"Sasuke\"]\n",
    "\n",
    "# Comando para os clones\n",
    "for ninja in equipe_7:\n",
    "    print(f\"{ninja} está pronto para a missão!\")"
   ]
  },
  {
   "cell_type": "markdown",
   "id": "f02ef272",
   "metadata": {},
   "source": [
    "## 🧪 Desafio\n",
    "Crie uma lista chamada `akatsuki` com pelo menos 5 membros da organização.  \n",
    "Use um loop `for` para imprimir uma frase de alerta para cada um, como:  \n",
    "\"Alerta! {nome} está se aproximando!\""
   ]
  },
  {
   "cell_type": "code",
   "execution_count": 2,
   "id": "e829038f",
   "metadata": {},
   "outputs": [
    {
     "name": "stdout",
     "output_type": "stream",
     "text": [
      "Alerta! Itachi está se aproximando!\n",
      "Alerta! Kisame está se aproximando!\n",
      "Alerta! Deidara está se aproximando!\n",
      "Alerta! Pain está se aproximando!\n",
      "Alerta! Konan está se aproximando!\n"
     ]
    }
   ],
   "source": [
    "akatsuki = [\"Itachi\", \"Kisame\", \"Deidara\", \"Pain\", \"Konan\"]\n",
    "\n",
    "for vilao in akatsuki:\n",
    "    print(f\"Alerta! {vilao} está se aproximando!\")"
   ]
  },
  {
   "cell_type": "markdown",
   "id": "98d11503",
   "metadata": {},
   "source": [
    "## ✅ Missão Concluída!\n",
    "**XP Ganhado:** 70  \n",
    "**Total Atual:** 180 XP  \n",
    "**Título Ninja:** Genin  \n",
    "**Próxima Missão:** Dia 04 — Sharingan Lógico (Condicionais)\n",
    "\n",
    "Você agora domina a técnica dos clones com listas e loops. Está pronto para tomar decisões com o Sharingan!"
   ]
  }
 ],
 "metadata": {
  "kernelspec": {
   "display_name": ".venv (3.13.7)",
   "language": "python",
   "name": "python3"
  },
  "language_info": {
   "codemirror_mode": {
    "name": "ipython",
    "version": 3
   },
   "file_extension": ".py",
   "mimetype": "text/x-python",
   "name": "python",
   "nbconvert_exporter": "python",
   "pygments_lexer": "ipython3",
   "version": "3.13.7"
  }
 },
 "nbformat": 4,
 "nbformat_minor": 5
}
